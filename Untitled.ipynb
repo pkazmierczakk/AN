{
 "cells": [
  {
   "cell_type": "code",
   "execution_count": 22,
   "metadata": {},
   "outputs": [],
   "source": [
    "import math\n",
    "\n",
    "\n",
    "class EPowerX:\n",
    "    def __init__(self, x, diff=False, precision=10 ** -16):\n",
    "        self.precision = precision\n",
    "        self.x = x\n",
    "        self.diff_from_buildin_func = diff\n",
    "        self.def_partial_sums = [] # zapisane aby dwa razy nie liczyć tego samego\n",
    "        self.rec_partial_sums = [] # zapisane aby dwa razy nie liczyć tego samego\n",
    "        self.build_in_result = None # zapisane aby dwa razy nie liczyć tego samego\n",
    "\n",
    "    def func(self, x, n):  # TODO replace build in functions\n",
    "        return (x ** n) / (math.factorial(n))\n",
    "\n",
    "    def _is_good_precision(self, elem, n):\n",
    "        # To tylko na teraz jest tak zrobione bo wyniki są podobne jak przy ograniczeniu z góry\n",
    "        return self.precision > elem\n",
    "\n",
    "    def get_partial_sums_from_definition(self):\n",
    "        if not self.def_partial_sums:\n",
    "            elem = 1\n",
    "            n = 0\n",
    "            while not self._is_good_precision(elem, n):\n",
    "                self.def_partial_sums.append(elem)\n",
    "                n += 1\n",
    "                elem = self.func(self.x, n)\n",
    "\n",
    "        return self.def_partial_sums\n",
    "\n",
    "    def get_partial_from_recursion(self):\n",
    "        if len(self.rec_partial_sums) <= 1:\n",
    "            elem = 1\n",
    "            n = 0\n",
    "            while not self._is_good_precision(elem, n):\n",
    "                self.rec_partial_sums.append(elem)\n",
    "                n += 1\n",
    "                elem *= self.x / (n + 1)\n",
    "\n",
    "        return self.rec_partial_sums\n",
    "\n",
    "    def compute_exp(self, method=\"def\", reverse=False):\n",
    "        if method == \"def\":\n",
    "            series = self.get_partial_sums_from_definition()\n",
    "        else:\n",
    "            series = self.get_partial_from_recursion()\n",
    "\n",
    "        if reverse:\n",
    "            series.reverse()\n",
    "\n",
    "        result = 0\n",
    "\n",
    "        for s in series:\n",
    "            result += s\n",
    "\n",
    "        if self.diff_from_buildin_func:\n",
    "            return abs(result - self.compute_from_build_in_func())\n",
    "\n",
    "        return result\n",
    "\n",
    "    def compute_from_build_in_func(self):\n",
    "        if self.diff_from_buildin_func:\n",
    "            self.build_in_result = math.exp(self.x)\n",
    "        return self.build_in_result"
   ]
  },
  {
   "cell_type": "code",
   "execution_count": 23,
   "metadata": {},
   "outputs": [],
   "source": [
    "min_number = -10.0\n",
    "max_number = 40.0\n",
    "number_of_negatives = 200000\n",
    "number_of_positives = 800000\n",
    "\n",
    "positive_increment = max_number/number_of_positives\n",
    "negative_increment = abs(min_number/number_of_negatives)\n",
    "\n",
    "e_powers = []\n",
    "\n",
    "for i in range(-number_of_negatives, 0):\n",
    "    exponent = i*negative_increment\n",
    "    e_powers.append(exponent)\n",
    "\n",
    "for i in range(number_of_positives):\n",
    "    exponent = i*positive_increment\n",
    "    e_powers.append(exponent)\n",
    "\n",
    "# print(e_powers[:10])"
   ]
  },
  {
   "cell_type": "code",
   "execution_count": 24,
   "metadata": {},
   "outputs": [
    {
     "name": "stderr",
     "output_type": "stream",
     "text": [
      "100%|██████████| 1000000/1000000 [00:41<00:00, 24140.37it/s]\n"
     ]
    }
   ],
   "source": [
    "from tqdm import tqdm\n",
    "PRECISION = 10**-99\n",
    "\n",
    "# e_powers = [i / 50000 for i in range(-500000, 500000)]\n",
    "# e_powers = [i / 500 for i in range(-500, 500)]\n",
    "difference = []\n",
    "\n",
    "\n",
    "for x in tqdm(e_powers):\n",
    "    epow = EPowerX(x, True, PRECISION)\n",
    "    difference.append(abs(epow.compute_exp(method='rec', reverse=False)) - abs(epow.compute_exp(method='rec', reverse=True)))\n",
    "    # results_def_start.append(epow.compute_exp(method='def', reverse=False))\n",
    "    # results_def_end.append(epow.compute_exp(method='def', reverse=True))\n",
    "\n",
    "\n",
    "# plt.scatter(e_powers, results_def_start, label='Results from definitions summed from start', s=1)\n",
    "# plt.scatter(e_powers, results_def_end, label='Results from definitions summed from end', s=1)\n",
    "\n"
   ]
  },
  {
   "cell_type": "code",
   "execution_count": 25,
   "metadata": {},
   "outputs": [
    {
     "data": {
      "image/png": "[encoded data removed]",
      "text/plain": [
       "<Figure size 432x288 with 1 Axes>"
      ]
     },
     "metadata": {
      "needs_background": "light"
     },
     "output_type": "display_data"
    }
   ],
   "source": [
    "import matplotlib.pyplot as plt\n",
    "\n",
    "plt.scatter(e_powers, difference, label='Difference', s=0.01)\n",
    "\n",
    "# p = 10\n",
    "# plt.ylim(-p, p)\n",
    "# plt.yscale('linear')\n",
    "plt.ylabel('precision')\n",
    "plt.xlabel('x')\n",
    "plt.title('e^x')\n",
    "plt.legend()\n",
    "plt.show()"
   ]
  },
  {
   "cell_type": "code",
   "execution_count": 21,
   "metadata": {},
   "outputs": [
    {
     "name": "stdout",
     "output_type": "stream",
     "text": [
      "288.0\n",
      "[1, 39.762, 790.508322, 10477.397299788, 104150.5678585426, 828246.9758382742, 5488792.708880243, 31177910.812928032, 154962011.21795556, 684622165.5609276, 2722194654.7033606, 9839991260.028639, 32604811040.104893, 99725576659.74236, 283234884224.6197, 750799031102.6218, 1865829442168.903, 4364065310559.995, 9640220271027.03, 20174444127188.25, 40108812369262.96, 75943171306030.19, 137256926248653.28, 237287387021693.56, 393125878448190.8, 625258847154278.6, 956213164636477.9, 1408183253787986.5, 1999720804897068.8, 2741824091183353.5, 3634013650454416.5, 4661150024818339.0, 5791770227713337.0, 6978556599828415.0, 8161216691834630.0, 9271608517163674.0, 1.0240491607207278e+16, 1.100493046718313e+16, 1.1515211716740412e+16, 1.1740201237975186e+16, 1.1670347040609234e+16, 1.1317959488504984e+16, 1.0714873932903218e+16, 9908019007444134.0, 8953696631227128.0, 7911486343352291.0, 6838619999660300.0, 5785472519712614.0, 4792540798516936.0, 3889000147563886.0, 3092688477348705.0, 2411205475222337.5, 1843737540495972.8, 1383220605381148.5, 1018511439095652.4, 736328215296751.5, 522819330296954.2, 364707758092412.2, 250026032366732.66, 168500594897729.22, 111665344238725.14, 72787498649511.3, 46680266472610.78, 29461916753713.49, 18304136468143.06, 11197062680712.373, 6745721307734.627, 4003333890121.5557, 2340890619691.372, 1348963664060.4106, 766249903005.2864, 429121530187.2704, 236982365045.92007, 129080723273.36812, 69358212416.15761, 36770949894.55012, 19237980390.88292, 9934293198.730995, 5064197002.1531, 2548893686.0710325, 1266863884.319455, 621889404.547039, 301555689.0682849, 144463341.06907403, 68382754.37605383, 31988647.99412532, 14789914.203981522, 6759500.788261073, 3054218.9811685993, 1364515.226171077, 602842.8269223819, 263409.19213283237, 113844.30758245305, 48673.95008702686, 20589.08088681236, 8617.505623383506, 3569.263110385156, 1463.1035030426244, 593.6318519181717, 238.42413834313479, 94.80220588799726, 37.32203277741136, 14.549006542112064, 5.616481535218057, 2.1473321038782727, 0.8131639915657893, 0.30502855313810295, 0.11335089093343224, 0.04173201967865864, 0.015223381343695639, 0.005502837172618419, 0.0019712055104293114, 0.0006998131563008061, 0.00024624752850294383, 8.588854586257941e-05, 2.969652487467724e-05, 1.017925191436997e-05, 3.459379612129733e-06, 1.165693662182224e-06, 3.8949841508982854e-07, 1.290602998400147e-07, 4.2410707787096404e-08, 1.3822414451069895e-08, 4.46834832035318e-09, 1.4328263380151869e-09, 4.5577632681727886e-10, 1.43829986562767e-10, 4.503124350951765e-11, 1.3988533628323756e-11, 4.311721504879141e-12, 1.318789772900034e-12, 4.00287930916421e-13, 1.2057764173559645e-13, 3.604818188489313e-14, 1.0696625433635228e-14, 3.1505127443866956e-15, 9.211079981051749e-16, 2.6733646876392676e-16, 7.702777297819751e-17, 2.2034376324885532e-17, 6.2580776530721324e-18, 1.7647778981663417e-18, 4.941626675133104e-19, 1.3740486703261713e-19, 3.794091890938141e-20, 1.0404184949481542e-20, 2.8335013832964726e-21, 7.6643321090227445e-22, 2.059116035938935e-22, 5.494937706107646e-23, 1.4565980871350148e-23, 3.835579678189567e-24, 1.0033573629221944e-24, 2.607548723170738e-25, 6.732555346150317e-26, 1.7270959075717993e-26, 4.402101761337813e-27, 1.1148813390720646e-27, 2.805690620517939e-28, 7.016344053649955e-29, 1.7436492016326845e-29, 4.306272022069491e-30, 1.0569505440835005e-30, 2.5783108916471257e-31, 6.251146199614208e-32, 1.5064125769033947e-32, 3.608311860411613e-33, 8.591239293035124e-34, 2.033362242676563e-34, 4.7840561830358284e-35, 1.1189625997051213e-35, 2.6018825081564347e-36, 6.014886761006753e-37, 1.3824504473476908e-37, 3.1591376257148783e-38, 7.177921729924285e-39, 1.62163933991619e-39, 3.6429165781778273e-40, 8.137620729298133e-41, 1.807642879543868e-41, 3.993083120912405e-42, 8.771987351034202e-43, 1.916438247537483e-43, 4.1640118906330827e-44, 8.998339173660469e-45, 1.9340106066112842e-45, 4.134415577423542e-46, 8.791049849706677e-47, 1.859307043212962e-47, 3.9116278651975556e-48, 8.186007746104484e-49, 1.7041468062858979e-49, 3.5291815266427014e-50, 7.270845381469797e-51, 1.490223474525784e-51, 3.038680297133037e-52, 6.164490100745093e-53, 1.2442256618569867e-53, 2.4986313518564396e-54, 4.9924914478651136e-55, 9.925572247500633e-56, 1.9634855905727374e-56, 3.8649561412056034e-57, 7.57036384663139e-58, 1.475552976812536e-58, 2.861996949464393e-59, 5.524209840029281e-60, 1.061128655358668e-60, 2.0284902689601612e-61, 3.85917847245904e-62, 7.307078781996017e-63, 1.3769860972972778e-63, 2.5826283585252057e-64, 4.821148769562405e-65, 8.957874643707493e-66, 1.656665170153941e-66, 3.0496444673917135e-67, 5.588016742508263e-68, 1.0192234941083191e-68, 1.8505189302618715e-69, 3.3445606229578425e-70, 6.017485044798631e-71, 1.077780361942717e-71, 1.9217355493975925e-72, 3.411252183711923e-73, 6.02836485905571e-74, 1.060618776662713e-74, 1.857811621042414e-75, 3.239925687538968e-76, 5.6255862527477925e-77, 9.725415677467728e-78, 1.674034537521523e-78, 2.869093158660811e-79, 4.8961752006296636e-80, 8.319731552454559e-81, 1.4076985786753114e-81, 2.3717335120884634e-82, 3.9791083505342395e-83, 6.647785976216069e-84, 1.105980192411311e-84, 1.8323326837774394e-85, 3.0231208370273253e-86, 4.967162426523988e-87, 8.127749481623326e-88, 1.3244900610176503e-88, 2.1495662778034208e-89, 3.4744331031715294e-90, 5.593133969567059e-91, 8.967507778142154e-92, 1.4319921456806761e-92, 2.277554867862202e-93, 3.607973571949676e-94, 5.692866871740596e-95, 8.947026583167969e-96, 1.4005971299209637e-96, 2.183942865879112e-97, 3.3921068841048923e-98, 5.248130502948589e-99]\n"
     ]
    }
   ],
   "source": [
    "import numpy as np\n",
    "import math\n",
    "\n",
    "# np.argmax(difference)\n",
    "# difference[np.argmax(difference)]\n",
    "epow = EPowerX(e_powers[np.argmax(difference)], True, PRECISION)\n",
    "\n",
    "print(epow.compute_exp(method='rec') - epow.compute_exp(method='rec', reverse=True))\n",
    "a = epow.rec_partial_sums[:]\n",
    "b = epow.rec_partial_sums[:]\n",
    "a.reverse()\n",
    "print(a)\n",
    "# print(math.exp(e_powers[np.argmax(difference)]))\n"
   ]
  }
 ],
 "metadata": {
  "kernelspec": {
   "display_name": "Python 3",
   "language": "python",
   "name": "python3"
  },
  "language_info": {
   "codemirror_mode": {
    "name": "ipython",
    "version": 3
   },
   "file_extension": ".py",
   "mimetype": "text/x-python",
   "name": "python",
   "nbconvert_exporter": "python",
   "pygments_lexer": "ipython3",
   "version": "3.7.3"
  }
 },
 "nbformat": 4,
 "nbformat_minor": 4
}
